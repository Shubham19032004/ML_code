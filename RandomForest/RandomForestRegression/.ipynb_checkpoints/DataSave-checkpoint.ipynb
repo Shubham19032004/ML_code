{
 "cells": [
  {
   "cell_type": "code",
   "execution_count": 9,
   "id": "550456fc",
   "metadata": {},
   "outputs": [],
   "source": [
    "import pandas as pd\n",
    "from sklearn.datasets import fetch_california_housing\n"
   ]
  },
  {
   "cell_type": "code",
   "execution_count": 10,
   "id": "ffbf5563",
   "metadata": {},
   "outputs": [],
   "source": [
    "california_housing = fetch_california_housing()"
   ]
  },
  {
   "cell_type": "code",
   "execution_count": 11,
   "id": "e55e3d38",
   "metadata": {},
   "outputs": [],
   "source": [
    "x_df = pd.DataFrame(data=california_housing.data, columns=california_housing.feature_names)\n",
    "\n",
    "x_df['target']=california_housing.target"
   ]
  },
  {
   "cell_type": "code",
   "execution_count": 12,
   "id": "65c79974",
   "metadata": {},
   "outputs": [],
   "source": [
    "x_df.to_csv(\"california_housing.csv\",index=False)"
   ]
  },
  {
   "cell_type": "code",
   "execution_count": null,
   "id": "0ae5c14d",
   "metadata": {},
   "outputs": [],
   "source": []
  }
 ],
 "metadata": {
  "kernelspec": {
   "display_name": "myproject",
   "language": "python",
   "name": "myproject"
  },
  "language_info": {
   "codemirror_mode": {
    "name": "ipython",
    "version": 3
   },
   "file_extension": ".py",
   "mimetype": "text/x-python",
   "name": "python",
   "nbconvert_exporter": "python",
   "pygments_lexer": "ipython3",
   "version": "3.12.1"
  }
 },
 "nbformat": 4,
 "nbformat_minor": 5
}
